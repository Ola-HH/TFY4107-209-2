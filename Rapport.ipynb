{
 "cells": [
  {
   "cell_type": "markdown",
   "metadata": {},
   "source": [
    "__<h1 style='text-align: center;'> Sluttfarten til en kule i en rullebane </h1>__\n",
    "<h4 style='text-align: center;'>L. B. Dahl, O. H. Hansen, J. O. Karlsen, N. M. Meland, M. Presthagen, O. P. Rasmussen</h4>\n",
    "\n",
    "_<p style='text-align: center;'>Institutt for fysikk, Norges teknisk-naturvitenskapelige universitet, 7491 Trondheim.</p>_\n",
    "\n"
   ]
  },
  {
   "cell_type": "markdown",
   "metadata": {},
   "source": [
    "***\n",
    "### __Sammendrag__\n",
    "\n",
    "Rapporten forklarer de fysiske kreftene som virker på en kule i en rullebane med varierende krumning. Banen er generert\n",
    "med Scipys interpoleringsfunksjon Cubicspline. Størrelsene er beregnet ved hjelp av Python for både numeriske verdier og\n",
    "for eksperimentell data, før resultatene for sluttfart, tidsbruk og friksjonskraft i forhold til normalkraft er blitt undersøkt\n",
    "og presentert. Numerisk utregning ga sluttfart 0.95 m/s, mens forsøkene beregnet den gjennomsnittlige sluttfarten til\n",
    "0.81 ± 0.02 m/s. Eksperimentell slutthastighet avviker noe fra den numerisk beregnede. Avviket kan for eksempel skyldes\n",
    "feil relatert til målingene gjort i Tracker, menneskelige feil i gjennomførelsen av forsøket eller metodiske feil i beregningene.\n",
    "***"
   ]
  },
  {
   "cell_type": "markdown",
   "metadata": {},
   "source": [
    "### __1. Introduksjon__\n",
    "\n",
    "Dette prosjektet har gått ut på å studere en kule som ruller, uten glidning ned en bane. Banen ble konstruert med åtte punkter plassert i jevne avstander på 0,2 meter. Hvert punkt hadde en distinkt høyde, men oversteg aldri startpunktets høyde på 0,3 meter. Med banen som grunnlag, anvendte vi teoretiske formler til å beregne tidsavhengige funksjoner for farten, helningsvinkelen, normalkraften og friksjonskraften. Videre ble ti eksperimentelle forsøk gjennomført. Disse ble benyttet til sammenligning til de teoretiske beregningene."
   ]
  },
  {
   "cell_type": "markdown",
   "metadata": {},
   "source": [
    "### __2. Teori__\n",
    "\n",
    "Med utgangspunkt i baneformen $y'(x)$ og dens 1. deriverte $y'(x)$ og 2. deriverte $y''(x)$ kan det utledes bestemte størrelser for et objekt som ruller ned banen.\n",
    "$\\begin{equation}\n",
    "\\mathit{E_k} = \\mathit{E_{trans}} + \\mathit{E_{rot}} = \\frac{1}{2} m v^2 + \\frac{1}{2} I \\omega^2 \\tag{1}\n",
    "\\end{equation}$\n",
    "I ligning (1) settes den totale kinetiske energien $\\mathit{E_k}$, som summen av transalsjonsenergien $\\mathit{E_{trans}}$ rotasjonsenergien $\\mathit{E_{rot}}$. Videre defineres $v$ som massesenteres fart, $w$ som rotasjonsfarten, $m$ som objektets masse og treghetsmomentet $I$ er gitt ved\n",
    "$\\begin{equation}\n",
    "I = c m r^2 \\tag{2}\n",
    "\\end{equation}$\n",
    "I ligning (2) er $r$ objektets radius og $c$ en konstant avhengig av objektets massefordeling.\n",
    "<br>\n",
    "<br>\n",
    "I startpunktet ($x = 0$) vil rotasjonsfarten og massesenterets fart være lik null som fører til total kinetisk energi lik null. I banens laveste punkt vil den potensielle energien være lik null. Med utganspunkt i at objektet ruller uten å slure ($v = r * w$) og at den mekanisk energi er bevart samt de nevnte grenseverdiene kan farten uteledes som\n",
    "$\\begin{equation}\n",
    "v(x) = \\sqrt{\\frac{2g(y_0 - y(x))}{1 + c}} \\tag{3}\n",
    "\\end{equation}$\n",
    "I ligning (3) er $v(x)$ massesenterets fart med hensyn på den horisontale posisjonen $x$. Videre defineres $g$ som tyngdeakselerasjonen, $\\mathit{y_0}$ som starthøyden og $y(x)$ som høyden med hensyn på $x$.\n",
    "<br>\n",
    "<br>\n",
    "<br>\n",
    "Banens krumning k kan utrykkes som \n",
    "$\\begin{equation}\n",
    "k = \\frac{1}{R} = \\frac{y''}{(1 + (y')^2)^{3/2}} \\tag{4}\n",
    "\\end{equation}$\n",
    "I ligning (4) er krumningen lik inversen til krumningsradien $R$ og det følger fra dette at sentripitalakselerasjonen $a_{\\text{ort}}$ er lik\n",
    "$\\begin{equation}\n",
    "a_{\\text{ort}} = \\frac{v^2}{R} = v^2k = \\frac{2g(y_0 - y)}{1 + c} \\cdot \\frac{y''}{(1 + (y')^2)^{3/2}} \\tag{5}\n",
    "\\end{equation}$\n",
    "<br>\n",
    "<br>\n",
    "<br>\n",
    "Ved å ta i bruk Newtons 2. lov normalt på banen er \n",
    "$\\begin{equation}\n",
    " \\sum F_{\\text{ort}} = m \\cdot a_{\\text{ort}} \\tag{6}\n",
    "\\end{equation}$\n",
    "I ligning (6) er  $\\sum F_{\\text{ort}}$ summen av kreftene normalt på banen. Fra dette kan normalkraften $N(x)$ utrykkes som \n",
    "$\\begin{equation}\n",
    " N(x) = m(g\\cos(B(x)) + a_{\\text{ort}}) \\tag{7}\n",
    "\\end{equation}$\n",
    "I ligning (7) er $B(x)$ helningsvinkelen uttrykt som \n",
    "$\\begin{equation}\n",
    " B(x) = \\arctan(y'(x))\\tag{8}\n",
    "\\end{equation}$\n",
    "<br>\n",
    "<br>\n",
    "<br>\n",
    "Ved å ta i bruk Newtons 2. lov i tangentiell retning og grunleggende rotasjonsmekanikk utledes ligningene \n",
    "$\\begin{equation}\n",
    " -mg\\sin(B) + F = ma \\tag{9}\n",
    "\\end{equation}$\n",
    "og\n",
    "$\\begin{equation}\n",
    " \\tau = r \\cdot F = I \\cdot \\alpha \\tag{10}\n",
    "\\end{equation}$\n",
    "I ligning (9) er $F(x)$ friksjonskraften og i ligning (10) er $\\tau$ kraftmomentet og $\\alpha$ rotasjonsaksellerasjonen. Ved å kombinere ligning (9) og ligning (10) samt at det ved ren rulling følger at aksellerasjon er lik produktet av radius og rotasjonsaksellerasjon ($a = r*\\alpha$) er \n",
    "$\\begin{equation}\n",
    " a(x) = -\\frac{g\\sin(B)}{1+c} \\tag{11}\n",
    "\\end{equation}$\n",
    "Fra ligning (9) og ligning (11) følger det at\n",
    "$\\begin{equation}\n",
    " F(x) = \\frac{c \\cdot m \\cdot g \\cdot \\sin(B)}{1 + c} \\tag{11}\n",
    "\\end{equation}$\n"
   ]
  },
  {
   "cell_type": "markdown",
   "metadata": {},
   "source": [
    "### __3. Metode__\n",
    "\n",
    "Her kommer masse gode metoder"
   ]
  },
  {
   "cell_type": "markdown",
   "metadata": {},
   "source": [
    "### __4. Resultater__\n",
    "\n",
    "Her kommer resultater"
   ]
  },
  {
   "cell_type": "markdown",
   "metadata": {},
   "source": [
    "### __5. Diskusjon__\n",
    "\n",
    "Her kommer en diskusjon"
   ]
  },
  {
   "cell_type": "markdown",
   "metadata": {},
   "source": [
    "### __6. Konklusjon__\n",
    "\n",
    "Her kommer en konklusjon"
   ]
  },
  {
   "cell_type": "markdown",
   "metadata": {},
   "source": [
    "### __Referanser__\n",
    "\n",
    "Referanseliste her"
   ]
  }
 ],
 "metadata": {
  "language_info": {
   "name": "python"
  }
 },
 "nbformat": 4,
 "nbformat_minor": 2
}
